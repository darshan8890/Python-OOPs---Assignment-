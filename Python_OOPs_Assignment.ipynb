{
  "nbformat": 4,
  "nbformat_minor": 0,
  "metadata": {
    "colab": {
      "provenance": []
    },
    "kernelspec": {
      "name": "python3",
      "display_name": "Python 3"
    },
    "language_info": {
      "name": "python"
    }
  },
  "cells": [
    {
      "cell_type": "markdown",
      "source": [
        "# **Python OOP's Questions**"
      ],
      "metadata": {
        "id": "ht0bMiAOaLhF"
      }
    },
    {
      "cell_type": "markdown",
      "source": [
        "Q1. What is Object oriented Programming (OOP)?\n",
        "- Object-Oriented Programming (OOP) is a programming paradigm based on the concept of objects, which encapsulate data and methods, enabling modular, reusable, and maintainable code."
      ],
      "metadata": {
        "id": "pUY2DwzXaSqC"
      }
    },
    {
      "cell_type": "markdown",
      "source": [
        "Q2. What is a class in OOP?\n",
        "- A class in Object-Oriented Programming (OOP) is a blueprint or template for creating objects, defining their attributes and methods."
      ],
      "metadata": {
        "id": "YO1wqgbZax4Y"
      }
    },
    {
      "cell_type": "markdown",
      "source": [
        "Q3. What is an Object in OOP?\n",
        "- An object in Object-Oriented Programming (OOP) is an instance of a class that contains specific data and methods to perform operations on that data."
      ],
      "metadata": {
        "id": "ZAh0TeETbDuG"
      }
    },
    {
      "cell_type": "markdown",
      "source": [
        " Q4. What is the difference between abstraction and encapsulation ?\n",
        " - Abstraction: Focuses on hiding the implementation details and showing only the essential features of an object. Achieved through abstract classes and interfaces.\n",
        " - Encapsulation: Focuses on bundling data and methods that operate on the data into a single unit and restricting direct access to some of the object's components. Achieved through access modifiers."
      ],
      "metadata": {
        "id": "JfRxF2WAbNuP"
      }
    },
    {
      "cell_type": "markdown",
      "source": [
        " Q5. What are dunder methods in Python?\n",
        " - Dunder methods in Python are special methods surrounded by double underscores that provide a way to customize the behavior of classes and enable operator overloading or integration with Python's built-in functions."
      ],
      "metadata": {
        "id": "N5Ae9eahbsbF"
      }
    },
    {
      "cell_type": "markdown",
      "source": [
        "Q6. Explain the concept of inheritance in OOP.\n",
        "- Inheritance in Object-Oriented Programming (OOP) is a mechanism where one class inherits the properties and methods of another class, allowing code reuse and the creation of hierarchical relationships between classes."
      ],
      "metadata": {
        "id": "kolU2HamcHCF"
      }
    },
    {
      "cell_type": "markdown",
      "source": [
        "Q7. What is polymorphism in OOP?\n",
        "- Polymorphism in Object-Oriented Programming (OOP) is the ability of different classes to provide a common interface for methods or functions, allowing them to be used interchangeably.\n",
        "- It enables objects of different types to be treated as objects of a common superclass, and each type can implement the method in its own way."
      ],
      "metadata": {
        "id": "XLvISP0Gcdh9"
      }
    },
    {
      "cell_type": "markdown",
      "source": [
        "Q8. How is encapsulation achieved in Python?\n",
        "- Encapsulation in Python is achieved by bundling data and methods that operate on the data within a class and restricting direct access to some of the object's components. This is typically done using access modifiers:\n",
        "\n",
        "1.   Public: Attributes and methods are accessible from outside the class.\n",
        "2.   Protected: Attributes and methods are meant for internal use within the class and its subclasses.\n",
        "3. Private: Attributes and methods are not accessible from outside the class.\n",
        "\n"
      ],
      "metadata": {
        "id": "6IEJIl74clzk"
      }
    },
    {
      "cell_type": "markdown",
      "source": [
        "Q9. What is a constructor in Python?\n",
        "- A constructor in Python is a special method that is automatically called when an object of a class is created. It initializes the object's attributes and sets up any necessary state for the object."
      ],
      "metadata": {
        "id": "3tlSpEbFdWo7"
      }
    },
    {
      "cell_type": "markdown",
      "source": [
        "Q10. What are class and static methods in Python?\n",
        "- Class Method: A class method is a method that is bound to the class rather than the instance. It takes the class itself as the first argument and is defined using the @classmethod decorator. It can be called on the class itself or an instance of the class.\n",
        "- Static Method: A static method is a method that does not take either the class or instance as its first argument. It behaves like a regular function but belongs to the class's namespace. It is defined using the @staticmethod decorator and is typically used for utility functions that don't need to access or modify class or instance attributes."
      ],
      "metadata": {
        "id": "7I2DT1awdsgc"
      }
    },
    {
      "cell_type": "markdown",
      "source": [
        "Q11. What is method overloading in Python?\n",
        "-\n",
        "Method overloading in Python refers to the ability to define multiple methods with the same name but different parameters. The Python does not support method overloading in the traditional sense, like some other languages. Instead, Python allows dynamic typing and does not distinguish methods by their signatures.\n",
        "Example: Java and C++.\n"
      ],
      "metadata": {
        "id": "ZOsqHsN-eB_S"
      }
    },
    {
      "cell_type": "markdown",
      "source": [
        "Q12. What is method overriding in OOP?\n",
        "- Method overriding in Object-Oriented Programming (OOP) occurs when a subclass provides a specific implementation of a method that is already defined in its superclass. This allows the subclass to modify or extend the behavior of the inherited method. The method in the subclass must have the same name, parameters, and return type as the one in the superclass."
      ],
      "metadata": {
        "id": "9esAWaraeazD"
      }
    },
    {
      "cell_type": "markdown",
      "source": [
        "Q13. What is a property decorator in Python?\n",
        "- The property decorator in Python is used to define a method as a property, allowing you to define methods that can be accessed like attributes. It provides a way to customize the behavior of attribute access, making it possible to add logic when getting, setting, or deleting an attribute."
      ],
      "metadata": {
        "id": "EuF_WF8Lej07"
      }
    },
    {
      "cell_type": "markdown",
      "source": [
        "Q14. Why is polymorphism important in OOP?\n",
        "- Polymorphism in OOP is important because it allows objects of different classes to be treated as instances of a common superclass, enabling flexibility, code reusability, and easier maintenance by allowing a single interface to work with different data types or classes."
      ],
      "metadata": {
        "id": "He2E57pae0sa"
      }
    },
    {
      "cell_type": "markdown",
      "source": [
        "Q15. What is an abstract class in Python?\n",
        "- An abstract class in Python is a class that cannot be instantiated directly and is meant to be subclassed by other classes. It contains one or more abstract methods, which are methods that are declared but have no implementation in the abstract class. Subclasses must provide implementations for these abstract methods."
      ],
      "metadata": {
        "id": "DLi07D30e9kJ"
      }
    },
    {
      "cell_type": "markdown",
      "source": [
        "Q16. What are the advantages of OOP?\n",
        "- The advantages of Object-Oriented Programming (OOP) include:\n",
        "\n",
        "1.   Modularity: OOP organizes code into independent, reusable objects, making it easier to manage and debug.\n",
        "2.   Reusability: Classes and objects can be reused across different programs or projects, reducing redundancy and promoting code efficiency.\n",
        "1.   Scalability: OOP allows the easy extension of existing code by adding new classes or modifying existing ones without affecting the entire system.\n",
        "2.   Maintainability: Encapsulation and clear class structures make it easier to maintain and modify code, ensuring changes in one part do not affect other parts.\n",
        "1.   Security: Encapsulation ensures that sensitive data is hidden and accessed only through well-defined interfaces, promoting data security.\n",
        "\n",
        "\n",
        "\n",
        "\n",
        "\n",
        "\n"
      ],
      "metadata": {
        "id": "JwfTfgX5fFwS"
      }
    },
    {
      "cell_type": "markdown",
      "source": [
        "Q17. What is the difference between a class variable and an instance variable?\n",
        "- Class Variable: A class variable is a variable that is shared by all instances of a class and is defined within the class but outside any methods.\n",
        "- Instance Variable: An instance variable is a variable that is specific to each instance of the class and is defined inside methods, typically within the constructor."
      ],
      "metadata": {
        "id": "lR5Ej8-Tfb7p"
      }
    },
    {
      "cell_type": "markdown",
      "source": [
        "Q18. What is multiple inheritance in Python?\n",
        "- Multiple inheritance in Python is a feature where a class can inherit from more than one class, allowing it to inherit attributes and methods from multiple parent classes. This enables the creation of a new class that combines the functionality of multiple base classes. For Example =\n",
        "```\n",
        "class A:\n",
        "    def method_a(self):\n",
        "        print(\"Method from class A\")\n",
        "class B:\n",
        "    def method_b(self):\n",
        "        print(\"Method from class B\")\n",
        "class C(A, B):\n",
        "    def method_c(self):\n",
        "        print(\"Method from class C\")\n",
        "# Creating an object of class C\n",
        "obj = C()\n",
        "obj.method_a()  # Output: Method from class A\n",
        "obj.method_b()  # Output: Method from class B\n",
        "obj.method_c()  # Output: Method from class C\n"
      ],
      "metadata": {
        "id": "OLtisWjJfv_5"
      }
    },
    {
      "cell_type": "markdown",
      "source": [
        "Q19. Explain the purpose of ‘’_str_’ and ‘_repr_’ ‘ methods in Python.\n",
        "- The __str__ method in Python is used to define a user-friendly, readable string representation of an object, typically for display purposes.\n",
        "- The __repr__ method is used to define a detailed string representation of an object, meant to be unambiguous and often suitable for debugging or logging."
      ],
      "metadata": {
        "id": "Kpsm_F1ugESQ"
      }
    },
    {
      "cell_type": "markdown",
      "source": [
        "Q20. What is the significance of the ‘super()’ function in Python?\n",
        "- The super() function in Python is used to call methods from a parent class in a subclass. It allows you to access and invoke the parent class's methods, ensuring that inherited methods are properly extended or overridden. It is commonly used to invoke the constructor of the parent class or to call other methods in a class hierarchy."
      ],
      "metadata": {
        "id": "ZYDCrwkTgvhw"
      }
    },
    {
      "cell_type": "markdown",
      "source": [
        "Q21. What is the significance of the del method in Python?\n",
        "- The __del__ method in Python is a special method called a destructor. It is automatically invoked when an object is about to be destroyed, typically when its reference count reaches zero, and it is no longer in use."
      ],
      "metadata": {
        "id": "91soSSkJg5MY"
      }
    },
    {
      "cell_type": "markdown",
      "source": [
        "Q22.  What is the difference between @staticmethod and @classmethod in Python?\n",
        "- @staticmethod: A method that belongs to the class but does not take the instance (self) or class (cls) as its first argument. It behaves like a regular function but is part of the class's namespace.\n",
        "- @classmethod: A method that takes the class (cls) as its first argument, allowing it to access class-level attributes and methods. It can be called on the class itself or on instances of the class."
      ],
      "metadata": {
        "id": "MAMsPCeXhId3"
      }
    },
    {
      "cell_type": "markdown",
      "source": [
        "Q23. How does polymorphism work in Python with inheritance?\n",
        "- In Python, polymorphism with inheritance allows objects of different classes to be treated as instances of a common superclass. Methods with the same name can behave differently based on the subclass, enabling flexible and dynamic method invocation."
      ],
      "metadata": {
        "id": "3BZ2yFNuhdBv"
      }
    },
    {
      "cell_type": "markdown",
      "source": [
        "Q24. What is method chaining in Python OOP?\n",
        "- Method chaining in Python OOP is a technique where multiple methods are called on the same object in a single line of code. Each method returns the object itself, allowing subsequent methods to be called on the result."
      ],
      "metadata": {
        "id": "eneSBnuJf_Kp"
      }
    },
    {
      "cell_type": "markdown",
      "source": [
        "Q25.  What is the purpose of the \"__call__\" method in Python?\n",
        "- The \"Call\" method in Python allows an object to be called like a function. It is a special method that enables an instance of a class to be invoked as if it were a function, allowing the object to behave like a callable."
      ],
      "metadata": {
        "id": "vg_BNqq1htlP"
      }
    },
    {
      "cell_type": "markdown",
      "source": [
        "# **Practical Questions**"
      ],
      "metadata": {
        "id": "mVmZGHGxiVHT"
      }
    },
    {
      "cell_type": "code",
      "source": [
        "# Q1. Create a parent class Animal with a method speak() that prints a generic message. Create a child class Dog that overrides the speak() method to print \"Bark!\".\n",
        "\n",
        "class Animal:\n",
        "    def speak(self):\n",
        "        print(\"Animal makes a sound\")\n",
        "\n",
        "class Dog(Animal):\n",
        "    def speak(self):\n",
        "        print(\"Bark!\")\n",
        "\n",
        "animal = Animal()\n",
        "dog = Dog()\n",
        "\n",
        "animal.speak()\n",
        "dog.speak()"
      ],
      "metadata": {
        "colab": {
          "base_uri": "https://localhost:8080/"
        },
        "id": "XWLEl2g_iYAl",
        "outputId": "9489caf4-c991-4198-87bd-c9b945c970c9"
      },
      "execution_count": 1,
      "outputs": [
        {
          "output_type": "stream",
          "name": "stdout",
          "text": [
            "Animal makes a sound\n",
            "Bark!\n"
          ]
        }
      ]
    },
    {
      "cell_type": "code",
      "source": [
        "# Q2.  Write a program to create an abstract class Shape with a method area(). Derive classes Circle and Rectangle from it and implement the area() method in both.\n",
        "\n",
        "from abc import ABC, abstractmethod\n",
        "import math\n",
        "\n",
        "class Shape(ABC):\n",
        "    @abstractmethod\n",
        "    def area(self):\n",
        "        pass\n",
        "\n",
        "class Circle(Shape):\n",
        "    def __init__(self, radius):\n",
        "        self.radius = radius\n",
        "\n",
        "    def area(self):\n",
        "        return math.pi * self.radius ** 2\n",
        "\n",
        "# Derived class Rectangle\n",
        "class Rectangle(Shape):\n",
        "    def __init__(self, length, width):\n",
        "        self.length = length\n",
        "        self.width = width\n",
        "\n",
        "    def area(self):\n",
        "        return self.length * self.width\n",
        "\n",
        "circle = Circle(5)\n",
        "rectangle = Rectangle(4, 6)\n",
        "\n",
        "print(f\"Area of Circle: {circle.area()}\")\n",
        "print(f\"Area of Rectangle: {rectangle.area()}\")"
      ],
      "metadata": {
        "colab": {
          "base_uri": "https://localhost:8080/"
        },
        "id": "Qdi9KKa3ixkl",
        "outputId": "bc31543c-8c88-42ab-b4aa-2e37037b70d3"
      },
      "execution_count": 3,
      "outputs": [
        {
          "output_type": "stream",
          "name": "stdout",
          "text": [
            "Area of Circle: 78.53981633974483\n",
            "Area of Rectangle: 24\n"
          ]
        }
      ]
    },
    {
      "cell_type": "code",
      "source": [
        "# Q3.  Implement a multi-level inheritance scenario where a class Vehicle has an attribute type. Derive a class Car and further derive a class ElectricCar that adds a battery attribute.\n",
        "\n",
        "class Vehicle:\n",
        "    def __init__(self, type):\n",
        "        self.type = type\n",
        "\n",
        "    def display_type(self):\n",
        "        print(f\"Vehicle type: {self.type}\")\n",
        "\n",
        "class Car(Vehicle):\n",
        "    def __init__(self, type, brand):\n",
        "        super().__init__(type)\n",
        "        self.brand = brand\n",
        "\n",
        "    def display_brand(self):\n",
        "        print(f\"Car brand: {self.brand}\")\n",
        "\n",
        "class ElectricCar(Car):\n",
        "    def __init__(self, type, brand, battery_capacity):\n",
        "        super().__init__(type, brand)\n",
        "        self.battery_capacity = battery_capacity\n",
        "\n",
        "    def display_battery(self):\n",
        "        print(f\"Battery capacity: {self.battery_capacity} kWh\")\n",
        "\n",
        "electric_car = ElectricCar(\"Electric\", \"Tesla\", 75)\n",
        "\n",
        "electric_car.display_type()\n",
        "electric_car.display_brand()\n",
        "electric_car.display_battery()\n"
      ],
      "metadata": {
        "colab": {
          "base_uri": "https://localhost:8080/"
        },
        "id": "7pScp8zHjBzV",
        "outputId": "d7743ad0-2b67-487c-e24f-9b030d425656"
      },
      "execution_count": 4,
      "outputs": [
        {
          "output_type": "stream",
          "name": "stdout",
          "text": [
            "Vehicle type: Electric\n",
            "Car brand: Tesla\n",
            "Battery capacity: 75 kWh\n"
          ]
        }
      ]
    },
    {
      "cell_type": "code",
      "source": [
        "# Q4.  Implement a multi-level inheritance scenario where a class Vehicle has an attribute type. Derive a class Car  and further derive a class ElectricCar that adds a battery attribute.\n",
        "\n",
        "class Vehicle:\n",
        "    def __init__(self, type):\n",
        "        self.type = type\n",
        "\n",
        "    def display_type(self):\n",
        "        print(f\"Vehicle type: {self.type}\")\n",
        "\n",
        "class Car(Vehicle):\n",
        "    def __init__(self, type, brand):\n",
        "        super().__init__(type)\n",
        "        self.brand = brand\n",
        "\n",
        "    def display_brand(self):\n",
        "        print(f\"Car brand: {self.brand}\")\n",
        "\n",
        "class ElectricCar(Car):\n",
        "    def __init__(self, type, brand, battery_capacity):\n",
        "        super().__init__(type, brand)\n",
        "        self.battery_capacity = battery_capacity\n",
        "\n",
        "    def display_battery(self):\n",
        "        print(f\"Battery capacity: {self.battery_capacity} kWh\")\n",
        "\n",
        "electric_car = ElectricCar(\"Electric\", \"Tesla\", 75)\n",
        "\n",
        "electric_car.display_type()\n",
        "electric_car.display_brand()\n",
        "electric_car.display_battery()\n"
      ],
      "metadata": {
        "colab": {
          "base_uri": "https://localhost:8080/"
        },
        "id": "fdZttmOJjiAT",
        "outputId": "48ab8fcf-6af3-468c-80ed-5950fb7f8bac"
      },
      "execution_count": 5,
      "outputs": [
        {
          "output_type": "stream",
          "name": "stdout",
          "text": [
            "Vehicle type: Electric\n",
            "Car brand: Tesla\n",
            "Battery capacity: 75 kWh\n"
          ]
        }
      ]
    },
    {
      "cell_type": "code",
      "source": [
        "# Q5.  Write a program to demonstrate encapsulation by creating a class BankAccount with private attributes  balance and methods to deposit, withdraw, and check balance.\n",
        "\n",
        "class BankAccount:\n",
        "    def __init__(self, initial_balance=0):\n",
        "        self.__balance = initial_balance\n",
        "\n",
        "    def deposit(self, amount):\n",
        "        if amount > 0:\n",
        "            self.__balance += amount\n",
        "            print(f\"Deposited: ${amount}\")\n",
        "        else:\n",
        "            print(\"Deposit amount must be positive.\")\n",
        "\n",
        "    def withdraw(self, amount):\n",
        "        if amount > 0 and amount <= self.__balance:\n",
        "            self.__balance -= amount\n",
        "            print(f\"Withdrew: ${amount}\")\n",
        "        elif amount > self.__balance:\n",
        "            print(\"Insufficient balance.\")\n",
        "        else:\n",
        "            print(\"Withdrawal amount must be positive.\")\n",
        "\n",
        "    def check_balance(self):\n",
        "        print(f\"Current balance: ${self.__balance}\")\n",
        "\n",
        "account = BankAccount(1000)\n",
        "\n",
        "account.check_balance()\n",
        "account.deposit(500)\n",
        "account.withdraw(200)\n",
        "account.check_balance()\n",
        "account.withdraw(1500)"
      ],
      "metadata": {
        "colab": {
          "base_uri": "https://localhost:8080/"
        },
        "id": "IYV86_cOj6S7",
        "outputId": "eb529616-2829-4ac3-d9bc-b4c1387fe13f"
      },
      "execution_count": 6,
      "outputs": [
        {
          "output_type": "stream",
          "name": "stdout",
          "text": [
            "Current balance: $1000\n",
            "Deposited: $500\n",
            "Withdrew: $200\n",
            "Current balance: $1300\n",
            "Insufficient balance.\n"
          ]
        }
      ]
    },
    {
      "cell_type": "code",
      "source": [
        "# Q6.  Demonstrate runtime polymorphism using a method play() in a base class Instrument. Derive classes Guitar and Piano that implement their own version of play().\n",
        "\n",
        "class Instrument:\n",
        "    def play(self):\n",
        "        print(\"Playing a musical instrument\")\n",
        "\n",
        "class Guitar(Instrument):\n",
        "    def play(self):\n",
        "        print(\"Strumming the guitar\")\n",
        "\n",
        "class Piano(Instrument):\n",
        "    def play(self):\n",
        "        print(\"Playing the piano\")\n",
        "\n",
        "def perform_play(instrument):\n",
        "    instrument.play()\n",
        "\n",
        "guitar = Guitar()\n",
        "piano = Piano()\n",
        "\n",
        "perform_play(guitar)\n",
        "perform_play(piano)"
      ],
      "metadata": {
        "colab": {
          "base_uri": "https://localhost:8080/"
        },
        "id": "5ju0iR2jkXrT",
        "outputId": "65fb1735-eb32-40f7-d7e2-67d80207a08d"
      },
      "execution_count": 7,
      "outputs": [
        {
          "output_type": "stream",
          "name": "stdout",
          "text": [
            "Strumming the guitar\n",
            "Playing the piano\n"
          ]
        }
      ]
    },
    {
      "cell_type": "code",
      "source": [
        "# Q7.  Create a class MathOperations with a class method add_numbers() to add two numbers and a static method subtract_numbers() to subtract two numbers.\n",
        "\n",
        "class MathOperations:\n",
        "    @classmethod\n",
        "    def add_numbers(cls, num1, num2):\n",
        "        return num1 + num2\n",
        "\n",
        "    @staticmethod\n",
        "    def subtract_numbers(num1, num2):\n",
        "        return num1 - num2\n",
        "\n",
        "sum_result = MathOperations.add_numbers(10, 5)\n",
        "difference_result = MathOperations.subtract_numbers(10, 5)\n",
        "\n",
        "print(f\"Sum: {sum_result}\")\n",
        "print(f\"Difference: {difference_result}\")"
      ],
      "metadata": {
        "id": "JYFaXAP9km3i"
      },
      "execution_count": null,
      "outputs": []
    },
    {
      "cell_type": "code",
      "source": [
        "# Q8. Implement a class Person with a class method to count the total number of persons created.\n",
        "\n",
        "class Person:\n",
        "    total_persons = 0\n",
        "\n",
        "    def __init__(self, name, age):\n",
        "        self.name = name\n",
        "        self.age = age\n",
        "        Person.total_persons += 1\n",
        "\n",
        "    @classmethod\n",
        "    def count_persons(cls):\n",
        "        return cls.total_persons\n",
        "\n",
        "person1 = Person(\"Alice\", 30)\n",
        "person2 = Person(\"Bob\", 25)\n",
        "person3 = Person(\"Charlie\", 35)\n",
        "\n",
        "print(f\"Total persons created: {Person.count_persons()}\")"
      ],
      "metadata": {
        "colab": {
          "base_uri": "https://localhost:8080/"
        },
        "id": "OJTugYiBkwHp",
        "outputId": "07e2a7bc-544c-4c78-b273-e1dd852bc132"
      },
      "execution_count": 8,
      "outputs": [
        {
          "output_type": "stream",
          "name": "stdout",
          "text": [
            "Total persons created: 3\n"
          ]
        }
      ]
    },
    {
      "cell_type": "code",
      "source": [
        "# Q9. Write a class Fraction with attributes numerator and denominator. Override the str method to display the fraction as \"numerator/denominator\".\n",
        "\n",
        "class Fraction:\n",
        "    def __init__(self, numerator, denominator):\n",
        "        self.numerator = numerator\n",
        "        self.denominator = denominator\n",
        "\n",
        "    def __str__(self):\n",
        "        return f\"{self.numerator}/{self.denominator}\"\n",
        "\n",
        "fraction = Fraction(3, 4)\n",
        "\n",
        "print(fraction)"
      ],
      "metadata": {
        "colab": {
          "base_uri": "https://localhost:8080/"
        },
        "id": "h_RWOm_QlPAb",
        "outputId": "d4b2fc83-568c-4cea-bcba-a18c440e0869"
      },
      "execution_count": 9,
      "outputs": [
        {
          "output_type": "stream",
          "name": "stdout",
          "text": [
            "3/4\n"
          ]
        }
      ]
    },
    {
      "cell_type": "code",
      "source": [
        "# Q10. Demonstrate operator overloading by creating a class Vector and overriding the add method to add two vectors.\n",
        "\n",
        "class Vector:\n",
        "    def __init__(self, x, y):\n",
        "        self.x = x\n",
        "        self.y = y\n",
        "\n",
        "    def __add__(self, other):\n",
        "        return Vector(self.x + other.x, self.y + other.y)\n",
        "\n",
        "    def __str__(self):\n",
        "        return f\"({self.x}, {self.y})\"\n",
        "\n",
        "vector1 = Vector(2, 3)\n",
        "vector2 = Vector(4, 5)\n",
        "\n",
        "result = vector1 + vector2\n",
        "\n",
        "print(f\"Sum of vectors: {result}\")"
      ],
      "metadata": {
        "colab": {
          "base_uri": "https://localhost:8080/"
        },
        "id": "ZwSLUjKxlbHa",
        "outputId": "eb526987-b538-4e8b-b7b5-dbaebdef0199"
      },
      "execution_count": 10,
      "outputs": [
        {
          "output_type": "stream",
          "name": "stdout",
          "text": [
            "Sum of vectors: (6, 8)\n"
          ]
        }
      ]
    },
    {
      "cell_type": "code",
      "source": [
        "# Q11. Create a class Person with attributes name and age. Add a method greet() that prints \"Hello, my name is {name} and I am {age} years old.\"\n",
        "\n",
        "class Person:\n",
        "    def __init__(self, name, age):\n",
        "        self.name = name\n",
        "        self.age = age\n",
        "\n",
        "    def greet(self):\n",
        "        print(f\"Hello, my name is {self.name} and I am {self.age} years old.\")\n",
        "\n",
        "person1 = Person(\"Alice\", 30)\n",
        "\n",
        "person1.greet()"
      ],
      "metadata": {
        "colab": {
          "base_uri": "https://localhost:8080/"
        },
        "id": "YUgzNUr8lnOp",
        "outputId": "91614ac6-a3c5-4e19-e768-1a8c3a0706cb"
      },
      "execution_count": 11,
      "outputs": [
        {
          "output_type": "stream",
          "name": "stdout",
          "text": [
            "Hello, my name is Alice and I am 30 years old.\n"
          ]
        }
      ]
    },
    {
      "cell_type": "code",
      "source": [
        "# Q12.  Implement a class Student with attributes name and grades. Create a method average_grade() to compute the average of the grades.\n",
        "\n",
        "class Student:\n",
        "    def __init__(self, name, grades):\n",
        "        self.name = name\n",
        "        self.grades = grades\n",
        "\n",
        "    def average_grade(self):\n",
        "        if len(self.grades) == 0:\n",
        "            return 0\n",
        "        return sum(self.grades) / len(self.grades)\n",
        "\n",
        "student1 = Student(\"John\", [85, 90, 78, 92, 88])\n",
        "\n",
        "average = student1.average_grade()\n",
        "\n",
        "print(f\"{student1.name}'s average grade is: {average:.2f}\")"
      ],
      "metadata": {
        "colab": {
          "base_uri": "https://localhost:8080/"
        },
        "id": "WG9h25ZDlw5p",
        "outputId": "cf4127e5-3ef6-43b4-9de1-458c9e0a3b66"
      },
      "execution_count": 13,
      "outputs": [
        {
          "output_type": "stream",
          "name": "stdout",
          "text": [
            "John's average grade is: 86.60\n"
          ]
        }
      ]
    },
    {
      "cell_type": "code",
      "source": [
        "# Q13. Create a class Rectangle with methods set_dimensions() to set the dimensions and area() to calculate the area.\n",
        "\n",
        "class Rectangle:\n",
        "    def __init__(self):\n",
        "        self.length = 0\n",
        "        self.width = 0\n",
        "\n",
        "    def set_dimensions(self, length, width):\n",
        "        self.length = length\n",
        "        self.width = width\n",
        "\n",
        "    def area(self):\n",
        "        return self.length * self.width\n",
        "\n",
        "rectangle1 = Rectangle()\n",
        "\n",
        "rectangle1.set_dimensions(5, 3)\n",
        "\n",
        "print(f\"Area of the rectangle: {rectangle1.area()}\")"
      ],
      "metadata": {
        "colab": {
          "base_uri": "https://localhost:8080/"
        },
        "id": "U7UZmjv2l_u5",
        "outputId": "7cd70e5d-17b2-446b-f4e9-c0c8613c75a3"
      },
      "execution_count": 14,
      "outputs": [
        {
          "output_type": "stream",
          "name": "stdout",
          "text": [
            "Area of the rectangle: 15\n"
          ]
        }
      ]
    },
    {
      "cell_type": "code",
      "source": [
        "# Q14.  Create a class Employee with a method calculate_salary() that computes the salary based on hours worked and hourly rate. Create a derived class Manager that adds a bonus to the salary.\n",
        "\n",
        "class Employee:\n",
        "    def __init__(self, name, hours_worked, hourly_rate):\n",
        "        self.name = name\n",
        "        self.hours_worked = hours_worked\n",
        "        self.hourly_rate = hourly_rate\n",
        "\n",
        "    def calculate_salary(self):\n",
        "        return self.hours_worked * self.hourly_rate\n",
        "\n",
        "class Manager(Employee):\n",
        "    def __init__(self, name, hours_worked, hourly_rate, bonus):\n",
        "        super().__init__(name, hours_worked, hourly_rate)\n",
        "        self.bonus = bonus\n",
        "\n",
        "    def calculate_salary(self):\n",
        "        base_salary = super().calculate_salary()\n",
        "        return base_salary + self.bonus\n",
        "\n",
        "employee = Employee(\"John\", 160, 20)\n",
        "\n",
        "manager = Manager(\"Alice\", 160, 25, 1000)\n",
        "\n",
        "print(f\"{employee.name}'s salary: ${employee.calculate_salary()}\")\n",
        "\n",
        "print(f\"{manager.name}'s salary: ${manager.calculate_salary()}\")"
      ],
      "metadata": {
        "colab": {
          "base_uri": "https://localhost:8080/"
        },
        "id": "ucKVCb-fmZIc",
        "outputId": "fc150637-618f-41da-ab46-c96b4a68dd77"
      },
      "execution_count": 15,
      "outputs": [
        {
          "output_type": "stream",
          "name": "stdout",
          "text": [
            "John's salary: $3200\n",
            "Alice's salary: $5000\n"
          ]
        }
      ]
    },
    {
      "cell_type": "code",
      "source": [
        "# Q15. Create a class Product with attributes name, price, and quantity. Implement a method total_price() that calculates the total price of the product.\n",
        "\n",
        "class Product:\n",
        "    def __init__(self, name, price, quantity):\n",
        "        self.name = name\n",
        "        self.price = price\n",
        "        self.quantity = quantity\n",
        "\n",
        "    def total_price(self):\n",
        "        return self.price * self.quantity\n",
        "\n",
        "product1 = Product(\"Laptop\", 1000, 3)\n",
        "\n",
        "print(f\"Total price of {product1.name}: ${product1.total_price()}\")"
      ],
      "metadata": {
        "colab": {
          "base_uri": "https://localhost:8080/"
        },
        "id": "tvtK9LGum2Y3",
        "outputId": "ce865e08-ec89-427d-aa81-795f7ef82028"
      },
      "execution_count": 16,
      "outputs": [
        {
          "output_type": "stream",
          "name": "stdout",
          "text": [
            "Total price of Laptop: $3000\n"
          ]
        }
      ]
    },
    {
      "cell_type": "code",
      "source": [
        "# Q16. Create a class Animal with an abstract method sound(). Create two derived classes Cow and Sheep that implement the sound() method.\n",
        "\n",
        "from abc import ABC, abstractmethod\n",
        "\n",
        "class Animal(ABC):\n",
        "    @abstractmethod\n",
        "    def sound(self):\n",
        "        pass\n",
        "\n",
        "class Cow(Animal):\n",
        "    def sound(self):\n",
        "        return \"Moo\"\n",
        "\n",
        "class Sheep(Animal):\n",
        "    def sound(self):\n",
        "        return \"Baa\"\n",
        "\n",
        "cow = Cow()\n",
        "sheep = Sheep()\n",
        "\n",
        "print(f\"Cow makes sound: {cow.sound()}\")\n",
        "print(f\"Sheep makes sound: {sheep.sound()}\")"
      ],
      "metadata": {
        "colab": {
          "base_uri": "https://localhost:8080/"
        },
        "id": "gN8diCCznKBf",
        "outputId": "e07d90b3-4ad8-4171-f88b-e53471be75b1"
      },
      "execution_count": 18,
      "outputs": [
        {
          "output_type": "stream",
          "name": "stdout",
          "text": [
            "Cow makes sound: Moo\n",
            "Sheep makes sound: Baa\n"
          ]
        }
      ]
    },
    {
      "cell_type": "code",
      "source": [
        "# Q17. Create a class Book with attributes title, author, and year_published. Add a method get_book_info() that returns a formatted string with the book's details.\n",
        "\n",
        "class Book:\n",
        "    def __init__(self, title, author, year_published):\n",
        "        self.title = title\n",
        "        self.author = author\n",
        "        self.year_published = year_published\n",
        "\n",
        "    def get_book_info(self):\n",
        "        return f\"Title: {self.title}, Author: {self.author}, Year Published: {self.year_published}\"\n",
        "\n",
        "book1 = Book(\"To Kill a Mockingbird\", \"Harper Lee\", 1960)\n",
        "\n",
        "print(book1.get_book_info())"
      ],
      "metadata": {
        "colab": {
          "base_uri": "https://localhost:8080/"
        },
        "id": "lqjf2DTsnO5v",
        "outputId": "d0cde759-fcaf-4720-f191-3c8513cd4306"
      },
      "execution_count": 19,
      "outputs": [
        {
          "output_type": "stream",
          "name": "stdout",
          "text": [
            "Title: To Kill a Mockingbird, Author: Harper Lee, Year Published: 1960\n"
          ]
        }
      ]
    },
    {
      "cell_type": "code",
      "source": [
        "# Q18.  Create a class House with attributes address and price. Create a derived class Mansion that adds an attribute number_of_rooms.\n",
        "\n",
        "class House:\n",
        "    def __init__(self, address, price):\n",
        "        self.address = address\n",
        "        self.price = price\n",
        "\n",
        "    def get_details(self):\n",
        "        return f\"Address: {self.address}, Price: ${self.price}\"\n",
        "\n",
        "class Mansion(House):\n",
        "    def __init__(self, address, price, number_of_rooms):\n",
        "        super().__init__(address, price)\n",
        "        self.number_of_rooms = number_of_rooms\n",
        "\n",
        "    def get_details(self):\n",
        "        base_details = super().get_details()\n",
        "        return f\"{base_details}, Number of rooms: {self.number_of_rooms}\"\n",
        "\n",
        "house = House(\"123 Elm Street\", 250000)\n",
        "\n",
        "mansion = Mansion(\"456 Oak Avenue\", 2000000, 12)\n",
        "\n",
        "print(house.get_details())\n",
        "print(mansion.get_details())"
      ],
      "metadata": {
        "colab": {
          "base_uri": "https://localhost:8080/"
        },
        "id": "Rl7eX1adniZH",
        "outputId": "7c6ce698-e5fd-48ba-96bc-22cb03761796"
      },
      "execution_count": 20,
      "outputs": [
        {
          "output_type": "stream",
          "name": "stdout",
          "text": [
            "Address: 123 Elm Street, Price: $250000\n",
            "Address: 456 Oak Avenue, Price: $2000000, Number of rooms: 12\n"
          ]
        }
      ]
    },
    {
      "cell_type": "markdown",
      "source": [
        "# **Thank You Sir/Ma'am**\n",
        "Yours Sincerely, Darshan Panchal"
      ],
      "metadata": {
        "id": "pya0g5Ihn2Fg"
      }
    }
  ]
}